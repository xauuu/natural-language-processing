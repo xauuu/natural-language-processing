{
 "cells": [
  {
   "cell_type": "code",
   "execution_count": 3,
   "metadata": {},
   "outputs": [],
   "source": [
    "import requests\n",
    "from bs4 import BeautifulSoup\n",
    "import json\n",
    "from time import sleep\n",
    "import json\n",
    "from nltk import word_tokenize, sent_tokenize"
   ]
  },
  {
   "cell_type": "code",
   "execution_count": null,
   "metadata": {},
   "outputs": [],
   "source": [
    "import nltk\n",
    "nltk.download('stopwords')\n",
    "nltk.download('omw-1.4')"
   ]
  },
  {
   "cell_type": "code",
   "execution_count": 9,
   "metadata": {},
   "outputs": [],
   "source": [
    "f = open('data/2.txt')\n",
    "data = json.load(f)\n",
    "answer = data['answers'][11]['message']"
   ]
  },
  {
   "cell_type": "markdown",
   "metadata": {},
   "source": [
    "Unicode Normalization"
   ]
  },
  {
   "cell_type": "code",
   "execution_count": 27,
   "metadata": {},
   "outputs": [
    {
     "data": {
      "text/plain": [
       "b\"Last month I tried flashing the .img files to the modem and modemst partitions under the bootloader, and then my baseband was lost. \\nFinnaly I paid \\xc3\\xaf\\xc2\\xbf\\xc2\\xa560 to someone to restore the baseband using the modem.img and modemst.img I had backed up before.  After he flashed twrp to my phone, he entered the adb shell and used the ''dd'' command to move the .img file to places like /dev/sdexx. And my phone had a signal and a mobile network after booting.  \\nHope to give you some ideas.\""
      ]
     },
     "execution_count": 27,
     "metadata": {},
     "output_type": "execute_result"
    }
   ],
   "source": [
    "answer = answer.encode('utf-8')\n",
    "answer"
   ]
  },
  {
   "cell_type": "markdown",
   "metadata": {},
   "source": [
    "Tách thành các câu, mỗi câu lưu trên 1 dòng"
   ]
  },
  {
   "cell_type": "code",
   "execution_count": 10,
   "metadata": {},
   "outputs": [
    {
     "name": "stdout",
     "output_type": "stream",
     "text": [
      "Last month I tried flashing the .img files to the modem and modemst partitions under the bootloader, and then my baseband was lost.\n",
      "Finnaly I paid ï¿¥60 to someone to restore the baseband using the modem.img and modemst.img I had backed up before.\n",
      "After he flashed twrp to my phone, he entered the adb shell and used the ''dd'' command to move the .img file to places like /dev/sdexx.\n",
      "And my phone had a signal and a mobile network after booting.\n",
      "Hope to give you some ideas.\n"
     ]
    }
   ],
   "source": [
    "my_list = sent_tokenize(answer)\n",
    "for i in my_list:\n",
    "    print(i)"
   ]
  },
  {
   "cell_type": "markdown",
   "metadata": {},
   "source": [
    "Xóa các stopwords"
   ]
  },
  {
   "cell_type": "code",
   "execution_count": 12,
   "metadata": {},
   "outputs": [
    {
     "data": {
      "text/plain": [
       "['Last',\n",
       " 'month',\n",
       " 'I',\n",
       " 'tried',\n",
       " 'flashing',\n",
       " '.img',\n",
       " 'files',\n",
       " 'modem',\n",
       " 'modemst',\n",
       " 'partitions',\n",
       " 'bootloader',\n",
       " ',',\n",
       " 'baseband',\n",
       " 'lost',\n",
       " '.',\n",
       " 'Finnaly',\n",
       " 'I',\n",
       " 'paid',\n",
       " 'ï¿¥60',\n",
       " 'someone',\n",
       " 'restore',\n",
       " 'baseband',\n",
       " 'using',\n",
       " 'modem.img',\n",
       " 'modemst.img',\n",
       " 'I',\n",
       " 'backed',\n",
       " '.',\n",
       " 'After',\n",
       " 'flashed',\n",
       " 'twrp',\n",
       " 'phone',\n",
       " ',',\n",
       " 'entered',\n",
       " 'adb',\n",
       " 'shell',\n",
       " 'used',\n",
       " '``',\n",
       " 'dd',\n",
       " \"''\",\n",
       " 'command',\n",
       " 'move',\n",
       " '.img',\n",
       " 'file',\n",
       " 'places',\n",
       " 'like',\n",
       " '/dev/sdexx',\n",
       " '.',\n",
       " 'And',\n",
       " 'phone',\n",
       " 'signal',\n",
       " 'mobile',\n",
       " 'network',\n",
       " 'booting',\n",
       " '.',\n",
       " 'Hope',\n",
       " 'give',\n",
       " 'ideas',\n",
       " '.']"
      ]
     },
     "execution_count": 12,
     "metadata": {},
     "output_type": "execute_result"
    }
   ],
   "source": [
    "from nltk.corpus import stopwords\n",
    "\n",
    "filtered_words = [word for word in word_tokenize(answer) if word not in stopwords.words('english')]\n",
    "filtered_words"
   ]
  },
  {
   "cell_type": "markdown",
   "metadata": {},
   "source": [
    "Tính số lần xuất hiện của mỗi từ, sắp xếp từ cao xuống thấp"
   ]
  },
  {
   "cell_type": "code",
   "execution_count": 31,
   "metadata": {},
   "outputs": [
    {
     "name": "stdout",
     "output_type": "stream",
     "text": [
      ".: 5\n",
      "I: 3\n",
      ".img: 2\n",
      ",: 2\n",
      "baseband: 2\n",
      "phone: 2\n",
      "Last: 1\n",
      "month: 1\n",
      "tried: 1\n",
      "flashing: 1\n",
      "files: 1\n",
      "modem: 1\n",
      "modemst: 1\n",
      "partitions: 1\n",
      "bootloader: 1\n",
      "lost: 1\n",
      "Finnaly: 1\n",
      "paid: 1\n",
      "ï¿¥60: 1\n",
      "someone: 1\n",
      "restore: 1\n",
      "using: 1\n",
      "modem.img: 1\n",
      "modemst.img: 1\n",
      "backed: 1\n",
      "After: 1\n",
      "flashed: 1\n",
      "twrp: 1\n",
      "entered: 1\n",
      "adb: 1\n",
      "shell: 1\n",
      "used: 1\n",
      "``: 1\n",
      "dd: 1\n",
      "'': 1\n",
      "command: 1\n",
      "move: 1\n",
      "file: 1\n",
      "places: 1\n",
      "like: 1\n",
      "/dev/sdexx: 1\n",
      "And: 1\n",
      "signal: 1\n",
      "mobile: 1\n",
      "network: 1\n",
      "booting: 1\n",
      "Hope: 1\n",
      "give: 1\n",
      "ideas: 1\n"
     ]
    }
   ],
   "source": [
    "from nltk.probability import FreqDist\n",
    "\n",
    "data_analysis = FreqDist(filtered_words)\n",
    "data_analysis = data_analysis.most_common(len(data_analysis))\n",
    "for key,val in data_analysis:\n",
    "    print (str(key) + ': ' + str(val))\n"
   ]
  },
  {
   "cell_type": "markdown",
   "metadata": {},
   "source": [
    "Stemming và Lemmatization"
   ]
  },
  {
   "cell_type": "code",
   "execution_count": 37,
   "metadata": {},
   "outputs": [
    {
     "name": "stdout",
     "output_type": "stream",
     "text": [
      "Last\n",
      "month\n",
      "I\n",
      "tried\n",
      "flashing\n",
      ".img\n",
      "files\n",
      "modem\n",
      "modemst\n",
      "partitions\n",
      "bootloader\n",
      ",\n",
      "baseband\n",
      "lost\n",
      ".\n",
      "Finnaly\n",
      "I\n",
      "paid\n",
      "ï¿¥60\n",
      "someone\n",
      "restore\n",
      "baseband\n",
      "using\n",
      "modem.img\n",
      "modemst.img\n",
      "I\n",
      "backed\n",
      ".\n",
      "After\n",
      "flashed\n",
      "twrp\n",
      "phone\n",
      ",\n",
      "entered\n",
      "adb\n",
      "shell\n",
      "used\n",
      "``\n",
      "dd\n",
      "''\n",
      "command\n",
      "move\n",
      ".img\n",
      "file\n",
      "places\n",
      "like\n",
      "/dev/sdexx\n",
      ".\n",
      "And\n",
      "phone\n",
      "signal\n",
      "mobile\n",
      "network\n",
      "booting\n",
      ".\n",
      "Hope\n",
      "give\n",
      "ideas\n",
      ".\n"
     ]
    }
   ],
   "source": [
    "from nltk.stem import PorterStemmer\n",
    "from nltk.stem import WordNetLemmatizer\n",
    "lemmatizer = WordNetLemmatizer()\n",
    "\n",
    "# Stemming\n",
    "for i in filtered_words:\n",
    "    print(PorterStemmer().stem(i))\n",
    "  \n",
    "# Lemmatization  \n",
    "for i in filtered_words:\n",
    "    print(lemmatizer.lemmatize(i, pos=\"a\"))"
   ]
  },
  {
   "cell_type": "markdown",
   "metadata": {},
   "source": [
    "Tách từ trong 1 văn bản tiếng Việt"
   ]
  },
  {
   "cell_type": "code",
   "execution_count": 39,
   "metadata": {},
   "outputs": [
    {
     "name": "stdout",
     "output_type": "stream",
     "text": [
      "['Nếu', 'có', 'bất kỳ', 'thắc mắc', ',', 'các', 'bạn', 'sinh viên', 'vui lòng', 'email', 'đến', 'phòng Đạo tạo', ':', 'daotao@vku.udn.vn', 'để', 'được', 'giải đáp', '.', 'Thời gian', 'nhận', 'phản hồi', 'từ', 'sinh viên', 'hết', 'ngày', '15/9/2022', '.', 'Sau', 'thời gian', 'này', ',', 'mọi', 'vấn đề', 'của', 'các', 'bạn', 'sinh viên', 'sẽ', 'không', 'được', 'giải quyết', '.']\n"
     ]
    }
   ],
   "source": [
    "from underthesea import sent_tokenize, word_tokenize\n",
    "\n",
    "text = \"Nếu có bất kỳ thắc mắc, các bạn sinh viên vui lòng email đến phòng Đạo tạo: daotao@vku.udn.vn để được giải đáp. Thời gian nhận phản hồi từ sinh viên hết ngày 15/9/2022. Sau thời gian này, mọi vấn đề của các bạn sinh viên sẽ không được giải quyết.\"\n",
    "print(word_tokenize(text))"
   ]
  },
  {
   "cell_type": "markdown",
   "metadata": {},
   "source": [
    "Nhận dạng văn bản tiếng Anh, Việt"
   ]
  },
  {
   "cell_type": "code",
   "execution_count": 44,
   "metadata": {},
   "outputs": [
    {
     "name": "stdout",
     "output_type": "stream",
     "text": [
      "en\n",
      "vi\n"
     ]
    }
   ],
   "source": [
    "from langdetect import detect\n",
    "\n",
    "vb1 = \"Open-source Vietnamese Natural Language Process Toolkit\"\n",
    "vb2 = \"Trần QUang ĐẠt\"\n",
    "\n",
    "print(detect(vb1))\n",
    "print(detect(vb2))"
   ]
  }
 ],
 "metadata": {
  "kernelspec": {
   "display_name": "Python 3.9.12 ('base')",
   "language": "python",
   "name": "python3"
  },
  "language_info": {
   "codemirror_mode": {
    "name": "ipython",
    "version": 3
   },
   "file_extension": ".py",
   "mimetype": "text/x-python",
   "name": "python",
   "nbconvert_exporter": "python",
   "pygments_lexer": "ipython3",
   "version": "3.9.12"
  },
  "orig_nbformat": 4,
  "vscode": {
   "interpreter": {
    "hash": "2043299c89c8cd0b4d1a6f5cf4529bd58e6a4e0fe3181a25e0d328c821cdc5c5"
   }
  }
 },
 "nbformat": 4,
 "nbformat_minor": 2
}
