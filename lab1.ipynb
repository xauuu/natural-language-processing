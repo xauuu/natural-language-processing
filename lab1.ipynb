{
 "cells": [
  {
   "cell_type": "code",
   "execution_count": 15,
   "metadata": {},
   "outputs": [],
   "source": [
    "import requests\n",
    "from bs4 import BeautifulSoup\n",
    "import json\n",
    "from time import sleep"
   ]
  },
  {
   "cell_type": "code",
   "execution_count": 38,
   "metadata": {},
   "outputs": [
    {
     "name": "stdout",
     "output_type": "stream",
     "text": [
      "https://thanhnien.vn/thoi-su/?trang=8\n",
      "https://thanhnien.vn/thoi-su/?trang=9\n",
      "https://thanhnien.vn/thoi-su/?trang=10\n",
      "https://thanhnien.vn/thoi-su/?trang=11\n",
      "https://thanhnien.vn/thoi-su/?trang=12\n",
      "https://thanhnien.vn/thoi-su/?trang=13\n",
      "https://thanhnien.vn/thoi-su/?trang=14\n",
      "https://thanhnien.vn/thoi-su/?trang=15\n",
      "https://thanhnien.vn/thoi-su/?trang=16\n",
      "https://thanhnien.vn/thoi-su/?trang=17\n",
      "https://thanhnien.vn/thoi-su/?trang=18\n",
      "https://thanhnien.vn/thoi-su/?trang=19\n",
      "https://thanhnien.vn/thoi-su/?trang=20\n",
      "https://thanhnien.vn/thoi-su/?trang=21\n",
      "https://thanhnien.vn/thoi-su/?trang=22\n",
      "https://thanhnien.vn/thoi-su/?trang=23\n",
      "https://thanhnien.vn/thoi-su/?trang=24\n",
      "https://thanhnien.vn/thoi-su/?trang=25\n",
      "https://thanhnien.vn/thoi-su/?trang=26\n",
      "https://thanhnien.vn/thoi-su/?trang=27\n",
      "https://thanhnien.vn/thoi-su/?trang=28\n",
      "https://thanhnien.vn/thoi-su/?trang=29\n",
      "https://thanhnien.vn/thoi-su/?trang=30\n",
      "https://thanhnien.vn/thoi-su/?trang=31\n",
      "https://thanhnien.vn/thoi-su/?trang=32\n",
      "https://thanhnien.vn/thoi-su/?trang=33\n",
      "https://thanhnien.vn/thoi-su/?trang=34\n",
      "https://thanhnien.vn/thoi-su/?trang=35\n",
      "https://thanhnien.vn/thoi-su/?trang=36\n",
      "https://thanhnien.vn/thoi-su/?trang=37\n",
      "https://thanhnien.vn/thoi-su/?trang=38\n",
      "https://thanhnien.vn/thoi-su/?trang=39\n",
      "https://thanhnien.vn/thoi-su/?trang=40\n",
      "https://thanhnien.vn/thoi-su/?trang=41\n",
      "https://thanhnien.vn/thoi-su/?trang=42\n",
      "https://thanhnien.vn/thoi-su/?trang=43\n",
      "https://thanhnien.vn/thoi-su/?trang=44\n",
      "https://thanhnien.vn/thoi-su/?trang=45\n",
      "https://thanhnien.vn/thoi-su/?trang=46\n",
      "https://thanhnien.vn/thoi-su/?trang=47\n",
      "https://thanhnien.vn/thoi-su/?trang=48\n",
      "https://thanhnien.vn/thoi-su/?trang=49\n",
      "https://thanhnien.vn/thoi-su/?trang=50\n",
      "https://thanhnien.vn/thoi-su/?trang=51\n",
      "https://thanhnien.vn/thoi-su/?trang=52\n",
      "https://thanhnien.vn/thoi-su/?trang=53\n",
      "https://thanhnien.vn/thoi-su/?trang=54\n",
      "https://thanhnien.vn/thoi-su/?trang=55\n",
      "https://thanhnien.vn/thoi-su/?trang=56\n",
      "https://thanhnien.vn/thoi-su/?trang=57\n",
      "https://thanhnien.vn/thoi-su/?trang=58\n",
      "https://thanhnien.vn/thoi-su/?trang=59\n",
      "https://thanhnien.vn/thoi-su/?trang=60\n",
      "https://thanhnien.vn/thoi-su/?trang=61\n",
      "https://thanhnien.vn/thoi-su/?trang=62\n",
      "https://thanhnien.vn/thoi-su/?trang=63\n",
      "https://thanhnien.vn/thoi-su/?trang=64\n",
      "https://thanhnien.vn/thoi-su/?trang=65\n",
      "https://thanhnien.vn/thoi-su/?trang=66\n",
      "https://thanhnien.vn/thoi-su/?trang=67\n",
      "https://thanhnien.vn/thoi-su/?trang=68\n",
      "https://thanhnien.vn/thoi-su/?trang=69\n"
     ]
    }
   ],
   "source": [
    "data = []\n",
    "index = 1\n",
    "for i in range(1, 70):\n",
    "    url = 'https://thanhnien.vn/thoi-su/?trang=' + str(i)\n",
    "    print(url)\n",
    "    r = requests.get(url)\n",
    "    soup = BeautifulSoup(r.text, 'html.parser')\n",
    "    news = soup.find('div', class_='relative').find_all('article', class_='story')\n",
    "    for item in news:\n",
    "        try:\n",
    "            title = item.find('a', class_='story__title').text\n",
    "            desc = item.find('p').text\n",
    "            href = item.find('a', class_='story__title')['href']\n",
    "            detail = requests.get(href)\n",
    "            soup_detail = BeautifulSoup(detail.text, 'html.parser')\n",
    "            content = soup_detail.find('div', class_='details__content').text\n",
    "            # data.append({'title': title, 'desc': desc})\n",
    "            filename = 'data/'+'bai' + str(index) +'.txt'\n",
    "            index += 1\n",
    "            with open(filename, 'x', encoding='utf8') as f:\n",
    "                f.writelines([title, '\\n', desc, '\\n', content])\n",
    "                f.close()\n",
    "            sleep(1)\n",
    "        except:\n",
    "            continue"
   ]
  },
  {
   "cell_type": "code",
   "execution_count": 10,
   "metadata": {},
   "outputs": [],
   "source": [
    "with open('data.json', 'w', encoding='utf8') as f:\n",
    "    json.dump(data, f, ensure_ascii=False)"
   ]
  }
 ],
 "metadata": {
  "kernelspec": {
   "display_name": "Python 3.9.12 ('base')",
   "language": "python",
   "name": "python3"
  },
  "language_info": {
   "codemirror_mode": {
    "name": "ipython",
    "version": 3
   },
   "file_extension": ".py",
   "mimetype": "text/x-python",
   "name": "python",
   "nbconvert_exporter": "python",
   "pygments_lexer": "ipython3",
   "version": "3.9.12"
  },
  "orig_nbformat": 4,
  "vscode": {
   "interpreter": {
    "hash": "2043299c89c8cd0b4d1a6f5cf4529bd58e6a4e0fe3181a25e0d328c821cdc5c5"
   }
  }
 },
 "nbformat": 4,
 "nbformat_minor": 2
}
