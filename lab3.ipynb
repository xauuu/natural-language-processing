{
 "cells": [
  {
   "cell_type": "code",
   "execution_count": 1,
   "metadata": {},
   "outputs": [],
   "source": [
    "from bs4 import BeautifulSoup\n",
    "import requests\n",
    "import re"
   ]
  },
  {
   "cell_type": "code",
   "execution_count": 3,
   "metadata": {},
   "outputs": [],
   "source": [
    "file = open('data/lab3.txt', 'r', encoding='utf-8')\n",
    "file = file.read()\n",
    "soup = BeautifulSoup(file, 'html.parser')\n",
    "html = str(soup.body)"
   ]
  },
  {
   "cell_type": "markdown",
   "metadata": {},
   "source": [
    "Tìm số điện thoại"
   ]
  },
  {
   "cell_type": "code",
   "execution_count": 4,
   "metadata": {},
   "outputs": [
    {
     "data": {
      "text/plain": [
       "['0854356812',\n",
       " '0385476657',\n",
       " '0906554075',\n",
       " '0362748014',\n",
       " '0377824995',\n",
       " '0886381845',\n",
       " '0354941620',\n",
       " '0854356812',\n",
       " '0969512417',\n",
       " '0826264430',\n",
       " '0353590632',\n",
       " '0706097692',\n",
       " '0865527326',\n",
       " '0905053975',\n",
       " '0838019145',\n",
       " '0929380289',\n",
       " '0987783627',\n",
       " '0398545408',\n",
       " '0386544065',\n",
       " '0969001752',\n",
       " '0941572258',\n",
       " '0941062428',\n",
       " '0832911165',\n",
       " '0373339349',\n",
       " '0708137756',\n",
       " '0327216383',\n",
       " '0941257069',\n",
       " '0354046056',\n",
       " '0923285942',\n",
       " '0948025870',\n",
       " '0948193148',\n",
       " '0795525037',\n",
       " '0916279648',\n",
       " '0378492837',\n",
       " '0901416277',\n",
       " '0971669462',\n",
       " '0392418126',\n",
       " '0783587149',\n",
       " '0362390435',\n",
       " '0334161115',\n",
       " '0364862571',\n",
       " '0336757208',\n",
       " '0792780774',\n",
       " '0348791105',\n",
       " '0763759193',\n",
       " '0824777472',\n",
       " '0366438466',\n",
       " '0934253417',\n",
       " '0347232695',\n",
       " '0946416465',\n",
       " '0382002619',\n",
       " '0398235881']"
      ]
     },
     "execution_count": 4,
     "metadata": {},
     "output_type": "execute_result"
    }
   ],
   "source": [
    "phone_pattern = re.compile(r'0\\d{9}')\n",
    "re.findall(phone_pattern, html)"
   ]
  },
  {
   "cell_type": "markdown",
   "metadata": {},
   "source": [
    "Email"
   ]
  },
  {
   "cell_type": "code",
   "execution_count": 5,
   "metadata": {},
   "outputs": [
    {
     "data": {
      "text/plain": [
       "['nthgiang.19it1@vku.udn.vn',\n",
       " 'nthgiang.19it1@vku.udn.vn',\n",
       " 'nthgiang.19it1@vku.udn.vn',\n",
       " 'nvan.19it1@vku.udn.vn',\n",
       " 'vtqanh.19it1@vku.udn.vn',\n",
       " 'nqchung.19it1@vku.udn.vn',\n",
       " 'tqdat.19it1@vku.udn.vn',\n",
       " 'cvduc.19it1@vku.udn.vn',\n",
       " 'nthgiang.19it1@vku.udn.vn',\n",
       " 'dlha.19it1@vku.udn.vn',\n",
       " 'mhhai.19it1@vku.udn.vn',\n",
       " 'nshai.19it1@vku.udn.vn',\n",
       " 'vdhieu.19it1@vku.udn.vn',\n",
       " 'mahoa.19it1@vku.udn.vn',\n",
       " 'nthoa.19it1@vku.udn.vn',\n",
       " 'lvhoang.19it1@vku.udn.vn',\n",
       " 'tthoang.19it1@vku.udn.vn',\n",
       " 'ndhuy.19it1@vku.udn.vn',\n",
       " 'ntchuyen.19it1@vku.udn.vn',\n",
       " 'ntthuong.19it1@vku.udn.vn',\n",
       " 'nvhuu.19it1@vku.udn.vn',\n",
       " 'lvkha.19it1@vku.udn.vn',\n",
       " 'pgkhai.19it1@vku.udn.vn',\n",
       " 'nhtlong.19it1@vku.udn.vn',\n",
       " 'ntlong.19it1@vku.udn.vn',\n",
       " 'ddluan.19it1@vku.udn.vn',\n",
       " 'nttly.19it1@vku.udn.vn',\n",
       " 'nttnga.19it1@vku.udn.vn',\n",
       " 'pvtnguyet.19it1@vku.udn.vn',\n",
       " 'hcnhan.19it1@vku.udn.vn',\n",
       " 'nnnhan.19it1@vku.udn.vn',\n",
       " 'nthnhung.19it1@vku.udn.vn',\n",
       " 'ntoanh.19it1@vku.udn.vn',\n",
       " 'htphong.19it1@vku.udn.vn',\n",
       " 'ndqphu.19it1@vku.udn.vn',\n",
       " 'ptphu.19it1@vku.udn.vn',\n",
       " 'ndphuc.19it1@vku.udn.vn',\n",
       " 'pvphung.19it1@vku.udn.vn',\n",
       " 'ndquang.19it1@vku.udn.vn',\n",
       " 'taquan.19it1@vku.udn.vn',\n",
       " 'paquoc.19it1@vku.udn.vn',\n",
       " 'lvtson.19it1@vku.udn.vn',\n",
       " 'dqtai.19it1@vku.udn.vn',\n",
       " 'lvtan.19it1@vku.udn.vn',\n",
       " 'nvtthanh.19it1@vku.udn.vn',\n",
       " 'hxthang.19it1@vku.udn.vn',\n",
       " 'ptthang.19it1@vku.udn.vn',\n",
       " 'nhthien.19it1@vku.udn.vn',\n",
       " 'ttnthuy.19it1@vku.udn.vn',\n",
       " 'pttriem.19it1@vku.udn.vn',\n",
       " 'nbtrien.19it1@vku.udn.vn',\n",
       " 'pdtrung.19it1@vku.udn.vn',\n",
       " 'thtu.19it1@vku.udn.vn',\n",
       " 'ncuy.19it1@vku.udn.vn']"
      ]
     },
     "execution_count": 5,
     "metadata": {},
     "output_type": "execute_result"
    }
   ],
   "source": [
    "email_pattern = re.compile(r'[\\w\\.-]+@[\\w\\.-]+')\n",
    "re.findall(email_pattern, html)"
   ]
  },
  {
   "cell_type": "markdown",
   "metadata": {},
   "source": [
    "Link"
   ]
  },
  {
   "cell_type": "code",
   "execution_count": 6,
   "metadata": {},
   "outputs": [
    {
     "data": {
      "text/plain": [
       "['https://daotao.vku.udn.vn/uploads/sinhvien/19IT008.jpg',\n",
       " 'https://daotao.vku.udn.vn/sv/khao-sat-chuyen-nganh',\n",
       " 'https://daotao.vku.udn.vn/sv/dang-ky-chuyen-nganh',\n",
       " 'https://daotao.vku.udn.vn/sv/dang-ky-chuyen-nganh-gcp',\n",
       " 'https://daotao.vku.udn.vn/sv/dang-ky-tin-chi',\n",
       " 'https://daotao.vku.udn.vn/sv/dang-ky-hoc-ghep',\n",
       " 'https://daotao.vku.udn.vn/sv/khao-sat-mo-lop',\n",
       " 'https://daotao.vku.udn.vn/sv/phan-luong-dang-ky',\n",
       " 'https://daotao.vku.udn.vn/sv/hoc-phan-con-lai',\n",
       " 'https://daotao.vku.udn.vn/sv/xac-nhan-hoc',\n",
       " 'https://daotao.vku.udn.vn/sv/tkb',\n",
       " 'https://daotao.vku.udn.vn/sv/lich-hoc',\n",
       " 'https://daotao.vku.udn.vn/sv/lich-thi',\n",
       " 'https://daotao.vku.udn.vn/sv/thoi-khoa-bieu',\n",
       " 'https://daotao.vku.udn.vn/sv/lop-hoc-phan',\n",
       " 'http://elearning.vku.udn.vn/my/',\n",
       " 'https://daotao.vku.udn.vn/sv/do-an-cua-toi',\n",
       " 'https://daotao.vku.udn.vn/sv/lienheGV',\n",
       " 'https://daotao.vku.udn.vn/sv/lienheSV',\n",
       " 'https://daotao.vku.udn.vn/sv/diem',\n",
       " 'https://daotao.vku.udn.vn/sv/xet-hoc-vu/ky-hoc?',\n",
       " 'https://daotao.vku.udn.vn/sv/chung-chi?',\n",
       " 'https://daotao.vku.udn.vn/sv/hoc-phi',\n",
       " 'https://daotao.vku.udn.vn/sv/hoc-phi-sap-nop',\n",
       " 'https://daotao.vku.udn.vn/sv/diem',\n",
       " 'https://daotao.vku.udn.vn/sv/khao-sat-viec-lam',\n",
       " 'https://daotao.vku.udn.vn/uploads/sinhvien/19IT008.jpg',\n",
       " 'https://cdn.vku-udn.edu.vn/daotao/sinhvien/19IT001.jpg',\n",
       " 'https://cdn.vku-udn.edu.vn/daotao/sinhvien/19IT002.jpg',\n",
       " 'https://cdn.vku-udn.edu.vn/daotao/sinhvien/19IT003.jpg',\n",
       " 'https://cdn.vku-udn.edu.vn/daotao/sinhvien/19IT006.jpg',\n",
       " 'https://cdn.vku-udn.edu.vn/daotao/sinhvien/19IT007.jpg',\n",
       " 'https://cdn.vku-udn.edu.vn/daotao/sinhvien/19IT008.jpg',\n",
       " 'https://cdn.vku-udn.edu.vn/daotao/sinhvien/19IT009.jpg',\n",
       " 'https://cdn.vku-udn.edu.vn/daotao/sinhvien/19IT010.jpg',\n",
       " 'https://cdn.vku-udn.edu.vn/daotao/sinhvien/19IT011.jpg',\n",
       " 'https://cdn.vku-udn.edu.vn/daotao/sinhvien/19IT012.jpg',\n",
       " 'https://cdn.vku-udn.edu.vn/daotao/sinhvien/19IT013.jpg',\n",
       " 'https://cdn.vku-udn.edu.vn/daotao/sinhvien/19IT014.jpg',\n",
       " 'https://cdn.vku-udn.edu.vn/daotao/sinhvien/19IT016.jpg',\n",
       " 'https://cdn.vku-udn.edu.vn/daotao/sinhvien/19IT017.jpg',\n",
       " 'https://cdn.vku-udn.edu.vn/daotao/sinhvien/19IT018.jpg',\n",
       " 'https://cdn.vku-udn.edu.vn/daotao/sinhvien/19IT019.jpg',\n",
       " 'https://cdn.vku-udn.edu.vn/daotao/sinhvien/19IT020.jpg',\n",
       " 'https://cdn.vku-udn.edu.vn/daotao/sinhvien/19IT021.jpg',\n",
       " 'https://cdn.vku-udn.edu.vn/daotao/sinhvien/19IT022.jpg',\n",
       " 'https://cdn.vku-udn.edu.vn/daotao/sinhvien/19IT023.jpg',\n",
       " 'https://cdn.vku-udn.edu.vn/daotao/sinhvien/19IT025.jpg',\n",
       " 'https://cdn.vku-udn.edu.vn/daotao/sinhvien/19IT026.jpg',\n",
       " 'https://cdn.vku-udn.edu.vn/daotao/sinhvien/19IT027.jpg',\n",
       " 'https://cdn.vku-udn.edu.vn/daotao/sinhvien/19IT028.jpg',\n",
       " 'https://cdn.vku-udn.edu.vn/daotao/sinhvien/19IT030.jpg',\n",
       " 'https://cdn.vku-udn.edu.vn/daotao/sinhvien/19IT031.jpg',\n",
       " 'https://cdn.vku-udn.edu.vn/daotao/sinhvien/19IT032.jpg',\n",
       " 'https://cdn.vku-udn.edu.vn/daotao/sinhvien/19IT033.jpg',\n",
       " 'https://cdn.vku-udn.edu.vn/daotao/sinhvien/19IT034.jpg',\n",
       " 'https://cdn.vku-udn.edu.vn/daotao/sinhvien/19IT035.jpg',\n",
       " 'https://cdn.vku-udn.edu.vn/daotao/sinhvien/19IT036.jpg',\n",
       " 'https://cdn.vku-udn.edu.vn/daotao/sinhvien/19IT037.jpg',\n",
       " 'https://cdn.vku-udn.edu.vn/daotao/sinhvien/19IT038.jpg',\n",
       " 'https://cdn.vku-udn.edu.vn/daotao/sinhvien/19IT039.jpg',\n",
       " 'https://cdn.vku-udn.edu.vn/daotao/sinhvien/19IT040.jpg',\n",
       " 'https://cdn.vku-udn.edu.vn/daotao/sinhvien/19IT041.jpg',\n",
       " 'https://cdn.vku-udn.edu.vn/daotao/sinhvien/19IT042.jpg',\n",
       " 'https://cdn.vku-udn.edu.vn/daotao/sinhvien/19IT044.jpg',\n",
       " 'https://cdn.vku-udn.edu.vn/daotao/sinhvien/19IT047.jpg',\n",
       " 'https://cdn.vku-udn.edu.vn/daotao/sinhvien/19IT048.jpg',\n",
       " 'https://cdn.vku-udn.edu.vn/daotao/sinhvien/19IT049.jpg',\n",
       " 'https://cdn.vku-udn.edu.vn/daotao/sinhvien/19IT050.jpg',\n",
       " 'https://cdn.vku-udn.edu.vn/daotao/sinhvien/19IT051.jpg',\n",
       " 'https://cdn.vku-udn.edu.vn/daotao/sinhvien/19IT052.jpg',\n",
       " 'https://cdn.vku-udn.edu.vn/daotao/sinhvien/19IT053.jpg',\n",
       " 'https://cdn.vku-udn.edu.vn/daotao/sinhvien/19IT055.jpg',\n",
       " 'https://cdn.vku-udn.edu.vn/daotao/sinhvien/19IT056.jpg',\n",
       " 'https://cdn.vku-udn.edu.vn/daotao/sinhvien/19IT057.jpg',\n",
       " 'https://cdn.vku-udn.edu.vn/daotao/sinhvien/19IT058.jpg',\n",
       " 'https://cdn.vku-udn.edu.vn/daotao/sinhvien/19IT059.jpg',\n",
       " 'https://cdn.vku-udn.edu.vn/daotao/sinhvien/19IT060.jpg',\n",
       " 'https://code.jquery.com/jquery-2.2.4.min.js',\n",
       " 'https://maxcdn.bootstrapcdn.com/bootstrap/3.3.6/js/bootstrap.min.js',\n",
       " 'https://daotao.vku.udn.vn/vendor/fastclick/lib/fastclick.js',\n",
       " 'https://daotao.vku.udn.vn/vendor/nprogress/nprogress.js',\n",
       " 'https://daotao.vku.udn.vn/vendor/Chart.js/dist/Chart.min.js',\n",
       " 'https://daotao.vku.udn.vn/vendor/gauge.js/dist/gauge.min.js',\n",
       " 'https://daotao.vku.udn.vn/vendor/bootstrap-progressbar/bootstrap-progressbar.min.js',\n",
       " 'https://daotao.vku.udn.vn/vendor/iCheck/icheck.min.js',\n",
       " 'https://daotao.vku.udn.vn/vendor/skycons/skycons.js',\n",
       " 'https://daotao.vku.udn.vn/vendor/Flot/jquery.flot.js',\n",
       " 'https://daotao.vku.udn.vn/vendor/Flot/jquery.flot.pie.js',\n",
       " 'https://daotao.vku.udn.vn/vendor/Flot/jquery.flot.time.js',\n",
       " 'https://daotao.vku.udn.vn/vendor/Flot/jquery.flot.stack.js',\n",
       " 'https://daotao.vku.udn.vn/vendor/Flot/jquery.flot.resize.js',\n",
       " 'https://daotao.vku.udn.vn/vendor/flot.orderbars/js/jquery.flot.orderBars.js',\n",
       " 'https://daotao.vku.udn.vn/vendor/flot-spline/js/jquery.flot.spline.min.js',\n",
       " 'https://daotao.vku.udn.vn/vendor/flot.curvedlines/curvedLines.js',\n",
       " 'https://daotao.vku.udn.vn/vendor/DateJS/build/date.js',\n",
       " 'https://daotao.vku.udn.vn/vendor/jqvmap/dist/jquery.vmap.js',\n",
       " 'https://daotao.vku.udn.vn/vendor/jqvmap/dist/maps/jquery.vmap.world.js',\n",
       " 'https://daotao.vku.udn.vn/vendor/jqvmap/examples/js/jquery.vmap.sampledata.js',\n",
       " 'https://daotao.vku.udn.vn/vendor/moment/min/moment.min.js',\n",
       " 'https://daotao.vku.udn.vn/vendor/bootstrap-daterangepicker/daterangepicker.js',\n",
       " 'https://daotao.vku.udn.vn/vendor/datatables.net/js/jquery.dataTables.min.js',\n",
       " 'https://daotao.vku.udn.vn/vendor/datatables.net-bs/js/dataTables.bootstrap.min.js',\n",
       " 'https://daotao.vku.udn.vn/vendor/datatables.net-buttons/js/dataTables.buttons.min.js',\n",
       " 'https://daotao.vku.udn.vn/vendor/datatables.net-buttons-bs/js/buttons.bootstrap.min.js',\n",
       " 'https://daotao.vku.udn.vn/vendor/datatables.net-buttons/js/buttons.flash.min.js',\n",
       " 'https://daotao.vku.udn.vn/vendor/datatables.net-buttons/js/buttons.html5.min.js',\n",
       " 'https://daotao.vku.udn.vn/vendor/datatables.net-buttons/js/buttons.print.min.js',\n",
       " 'https://daotao.vku.udn.vn/vendor/datatables.net-fixedheader/js/dataTables.fixedHeader.min.js',\n",
       " 'https://daotao.vku.udn.vn/vendor/datatables.net-keytable/js/dataTables.keyTable.min.js',\n",
       " 'https://daotao.vku.udn.vn/vendor/datatables.net-responsive/js/dataTables.responsive.min.js',\n",
       " 'https://daotao.vku.udn.vn/vendor/datatables.net-responsive-bs/js/responsive.bootstrap.js',\n",
       " 'https://daotao.vku.udn.vn/vendor/datatables.net-scroller/js/dataTables.scroller.min.js',\n",
       " 'https://daotao.vku.udn.vn/vendor/jszip/dist/jszip.min.js',\n",
       " 'https://daotao.vku.udn.vn/vendor/pdfmake/build/pdfmake.min.js',\n",
       " 'https://daotao.vku.udn.vn/vendor/pdfmake/build/vfs_fonts.js',\n",
       " 'https://daotao.vku.udn.vn/public/gv/build/js/custom.min.js',\n",
       " 'https://www.googletagmanager.com/gtag/js?id=UA-118234607-2']"
      ]
     },
     "execution_count": 6,
     "metadata": {},
     "output_type": "execute_result"
    }
   ],
   "source": [
    "link_pattern = re.compile(r'http[s]?://(?:[a-zA-Z]|[0-9]|[$-_@.&+]|[!*\\(\\),]|(?:%[0-9a-fA-F][0-9a-fA-F]))+')\n",
    "re.findall(link_pattern, html)"
   ]
  },
  {
   "cell_type": "markdown",
   "metadata": {},
   "source": [
    "xóa các thẻ HTML"
   ]
  },
  {
   "cell_type": "code",
   "execution_count": 7,
   "metadata": {},
   "outputs": [
    {
     "data": {
      "text/plain": [
       "<li title=\"nthgiang.19it1@vku.udn.vn\"><a href=\"#\"><i class=\"fa fa-street-view\"></i>Lý lịch sinh viên</a>\n",
       "<ul class=\"nav child_menu\">\n",
       "<li><a href=\"/sv/hoso\"><i class=\"fa fa-bar-chart\"></i>Quản lý lý lịch</a> </li>\n",
       "<li><a href=\"/sv/tam-tru\"><i class=\"fa fa-user\"></i>Khai báo tạm trú</a></li>\n",
       "<li><a href=\"/sv/bao-cao-covid\">Cập nhật trạng thái Covid</a></li>\n",
       "<li><a href=\"/sv/cap-nhat-mui-tiem\">Cập nhật mũi tiêm Vaccine</a> </li>\n",
       "</ul>\n",
       "</li>"
      ]
     },
     "execution_count": 7,
     "metadata": {},
     "output_type": "execute_result"
    }
   ],
   "source": [
    "tag_html = soup.find('li')\n",
    "tag_html"
   ]
  },
  {
   "cell_type": "code",
   "execution_count": 8,
   "metadata": {},
   "outputs": [
    {
     "data": {
      "text/plain": [
       "'Lý lịch sinh viên\\n\\nQuản lý lý lịch \\nKhai báo tạm trú\\nCập nhật trạng thái Covid\\nCập nhật mũi tiêm Vaccine \\n\\n'"
      ]
     },
     "execution_count": 8,
     "metadata": {},
     "output_type": "execute_result"
    }
   ],
   "source": [
    "tag_pattern = re.compile('<.*?>')\n",
    "clean_tag = re.sub(tag_pattern, '', str(tag_html))\n",
    "clean_tag"
   ]
  }
 ],
 "metadata": {
  "kernelspec": {
   "display_name": "Python 3.9.12 ('base')",
   "language": "python",
   "name": "python3"
  },
  "language_info": {
   "codemirror_mode": {
    "name": "ipython",
    "version": 3
   },
   "file_extension": ".py",
   "mimetype": "text/x-python",
   "name": "python",
   "nbconvert_exporter": "python",
   "pygments_lexer": "ipython3",
   "version": "3.9.12"
  },
  "orig_nbformat": 4,
  "vscode": {
   "interpreter": {
    "hash": "2043299c89c8cd0b4d1a6f5cf4529bd58e6a4e0fe3181a25e0d328c821cdc5c5"
   }
  }
 },
 "nbformat": 4,
 "nbformat_minor": 2
}
